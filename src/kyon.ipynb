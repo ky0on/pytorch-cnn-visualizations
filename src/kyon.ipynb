{
 "cells": [
  {
   "cell_type": "code",
   "execution_count": null,
   "metadata": {},
   "outputs": [],
   "source": [
    "import numpy as np\n",
    "import matplotlib.pyplot as plt\n",
    "\n",
    "from misc_functions import get_example_params, convert_to_grayscale, save_gradient_images\n",
    "from gradcam import GradCam\n",
    "from guided_backprop import GuidedBackprop\n",
    "import guided_gradcam"
   ]
  },
  {
   "cell_type": "markdown",
   "metadata": {},
   "source": [
    "# get data from get_example_params()"
   ]
  },
  {
   "cell_type": "code",
   "execution_count": null,
   "metadata": {},
   "outputs": [],
   "source": [
    "# Get params\n",
    "target_example = 0  # Snake\n",
    "original_image, prep_img, target_class, file_name_to_export, pretrained_model = get_example_params(target_example)\n",
    "\n",
    "print(np.array(original_image).shape)\n",
    "print(file_name_to_export)"
   ]
  },
  {
   "cell_type": "code",
   "execution_count": null,
   "metadata": {},
   "outputs": [],
   "source": [
    "pretrained_model"
   ]
  },
  {
   "cell_type": "code",
   "execution_count": null,
   "metadata": {},
   "outputs": [],
   "source": [
    "# Grad cam\n",
    "gcv2 = GradCam(pretrained_model, target_layer=11)\n",
    "\n",
    "# Generate cam mask\n",
    "cam = gcv2.generate_cam(prep_img, target_class)\n",
    "print('Grad cam completed')"
   ]
  },
  {
   "cell_type": "code",
   "execution_count": null,
   "metadata": {},
   "outputs": [],
   "source": [
    "# Guided backprop\n",
    "GBP = GuidedBackprop(pretrained_model)\n",
    "\n",
    "# Get gradients\n",
    "guided_grads = GBP.generate_gradients(prep_img, target_class)\n",
    "print('Guided backpropagation completed')"
   ]
  },
  {
   "cell_type": "code",
   "execution_count": null,
   "metadata": {},
   "outputs": [],
   "source": [
    "# Guided Grad cam\n",
    "cam_gb = guided_gradcam.guided_grad_cam(cam, guided_grads)\n",
    "# save_gradient_images(cam_gb, file_name_to_export + '_GGrad_Cam')\n",
    "\n",
    "grayscale_cam_gb = convert_to_grayscale(cam_gb)\n",
    "# save_gradient_images(grayscale_cam_gb, file_name_to_export + '_GGrad_Cam_gray')\n",
    "\n",
    "print('Guided grad cam completed')"
   ]
  },
  {
   "cell_type": "code",
   "execution_count": null,
   "metadata": {},
   "outputs": [],
   "source": [
    "fig, axes = plt.subplots(1, 5, figsize=(16, 4))\n",
    "for ax, img in zip(axes.flatten(), (original_image, cam, guided_grads, cam_gb, grayscale_cam_gb)):\n",
    "    img = np.array(img)\n",
    "    print(img.shape)\n",
    "    \n",
    "    if img.shape[0] == 3:\n",
    "        img = img.transpose(1, 2, 0)\n",
    "    elif img.shape[0] == 1:\n",
    "        img = np.repeat(img, 3, axis=0)\n",
    "        img = img.transpose(1, 2, 0)\n",
    "        \n",
    "    ax.imshow(img)\n",
    "    ax.axis('off')"
   ]
  },
  {
   "cell_type": "markdown",
   "metadata": {},
   "source": [
    "# my data"
   ]
  },
  {
   "cell_type": "code",
   "execution_count": null,
   "metadata": {},
   "outputs": [],
   "source": [
    "# original_image, prep_img, target_class, file_name_to_export, pretrained_model = get_example_params(target_example)\n",
    "# original_image = 'validation/'\n",
    "\n",
    "# print(np.array(original_image).shape)"
   ]
  }
 ],
 "metadata": {
  "kernelspec": {
   "display_name": "Python 3",
   "language": "python",
   "name": "python3"
  },
  "language_info": {
   "codemirror_mode": {
    "name": "ipython",
    "version": 3
   },
   "file_extension": ".py",
   "mimetype": "text/x-python",
   "name": "python",
   "nbconvert_exporter": "python",
   "pygments_lexer": "ipython3",
   "version": "3.6.7"
  },
  "toc": {
   "nav_menu": {},
   "number_sections": true,
   "sideBar": true,
   "skip_h1_title": false,
   "title_cell": "Table of Contents",
   "title_sidebar": "Contents",
   "toc_cell": false,
   "toc_position": {},
   "toc_section_display": true,
   "toc_window_display": false
  }
 },
 "nbformat": 4,
 "nbformat_minor": 2
}
